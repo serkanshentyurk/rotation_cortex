{
 "cells": [
  {
   "cell_type": "code",
   "execution_count": 1,
   "metadata": {},
   "outputs": [],
   "source": [
    "from pinkrigs_tools.dataset.query import queryCSV\n",
    "from pinkrigs_tools.dataset.query import load_data"
   ]
  },
  {
   "cell_type": "code",
   "execution_count": 2,
   "metadata": {},
   "outputs": [],
   "source": [
    "exp = queryCSV(\n",
    "  subject='AV043',\n",
    "  expDate='2024-03-14:2024-03-24', \n",
    "  expDef = 'multiSpaceWorld_checker_training',\n",
    "  )"
   ]
  },
  {
   "cell_type": "markdown",
   "metadata": {},
   "source": [
    "# Loading Data"
   ]
  },
  {
   "cell_type": "code",
   "execution_count": 3,
   "metadata": {},
   "outputs": [],
   "source": [
    "# define parameters of your query\n",
    "exp_kwargs = {\n",
    "    'subject': ['AV043'],\n",
    "    'expDate': '2024-03-14:2024-03-20',\n",
    "    'expDef' : 'multiSpaceWorld_checker_training',\n",
    "    }"
   ]
  },
  {
   "cell_type": "markdown",
   "metadata": {},
   "source": [
    "## Events Data"
   ]
  },
  {
   "cell_type": "code",
   "execution_count": null,
   "metadata": {},
   "outputs": [],
   "source": [
    "# define the ONE data to load\n",
    "data_name_dict = { 'events': {'_av_trials': 'table'}}\n",
    "recordings_events = load_data(data_name_dict=data_name_dict,**exp_kwargs)\n"
   ]
  },
  {
   "cell_type": "code",
   "execution_count": 7,
   "metadata": {},
   "outputs": [
    {
     "data": {
      "text/html": [
       "<div>\n",
       "<style scoped>\n",
       "    .dataframe tbody tr th:only-of-type {\n",
       "        vertical-align: middle;\n",
       "    }\n",
       "\n",
       "    .dataframe tbody tr th {\n",
       "        vertical-align: top;\n",
       "    }\n",
       "\n",
       "    .dataframe thead th {\n",
       "        text-align: right;\n",
       "    }\n",
       "</style>\n",
       "<table border=\"1\" class=\"dataframe\">\n",
       "  <thead>\n",
       "    <tr style=\"text-align: right;\">\n",
       "      <th></th>\n",
       "      <th>expDate</th>\n",
       "      <th>expNum</th>\n",
       "      <th>expDef</th>\n",
       "      <th>expDuration</th>\n",
       "      <th>rigName</th>\n",
       "      <th>existBlock</th>\n",
       "      <th>existTimeline</th>\n",
       "      <th>existFrontCam</th>\n",
       "      <th>existSideCam</th>\n",
       "      <th>existEyeCam</th>\n",
       "      <th>...</th>\n",
       "      <th>fMapEyeCam</th>\n",
       "      <th>fMapTopCam</th>\n",
       "      <th>issortedPyKS</th>\n",
       "      <th>extractSpikes</th>\n",
       "      <th>extractEvents</th>\n",
       "      <th>expFolder</th>\n",
       "      <th>ephysPathProbe0</th>\n",
       "      <th>ephysPathProbe1</th>\n",
       "      <th>subject</th>\n",
       "      <th>events</th>\n",
       "    </tr>\n",
       "  </thead>\n",
       "  <tbody>\n",
       "    <tr>\n",
       "      <th>0</th>\n",
       "      <td>2024-03-14</td>\n",
       "      <td>1</td>\n",
       "      <td>multiSpaceWorld_checker_training</td>\n",
       "      <td>3576</td>\n",
       "      <td>zelda-stim1</td>\n",
       "      <td>1</td>\n",
       "      <td>1</td>\n",
       "      <td>1</td>\n",
       "      <td>1</td>\n",
       "      <td>1</td>\n",
       "      <td>...</td>\n",
       "      <td>1</td>\n",
       "      <td>NaN</td>\n",
       "      <td>1,0</td>\n",
       "      <td>1,0</td>\n",
       "      <td>1</td>\n",
       "      <td>\\\\zortex.cortexlab.net\\Subjects\\AV043\\2024-03-...</td>\n",
       "      <td>\\\\zortex.cortexlab.net\\Subjects\\AV043\\2024-03-...</td>\n",
       "      <td>NaN</td>\n",
       "      <td>AV043</td>\n",
       "      <td>{'_av_trials': {'is_blankTrial': [False, False...</td>\n",
       "    </tr>\n",
       "    <tr>\n",
       "      <th>1</th>\n",
       "      <td>2024-03-20</td>\n",
       "      <td>1</td>\n",
       "      <td>multiSpaceWorld_checker_training</td>\n",
       "      <td>2853</td>\n",
       "      <td>zelda-stim1</td>\n",
       "      <td>1</td>\n",
       "      <td>1</td>\n",
       "      <td>1</td>\n",
       "      <td>1</td>\n",
       "      <td>1</td>\n",
       "      <td>...</td>\n",
       "      <td>0</td>\n",
       "      <td>NaN</td>\n",
       "      <td>1,0</td>\n",
       "      <td>1,0</td>\n",
       "      <td>1</td>\n",
       "      <td>\\\\zortex.cortexlab.net\\Subjects\\AV043\\2024-03-...</td>\n",
       "      <td>\\\\zortex.cortexlab.net\\Subjects\\AV043\\2024-03-...</td>\n",
       "      <td>NaN</td>\n",
       "      <td>AV043</td>\n",
       "      <td>{'_av_trials': {'is_blankTrial': [False, False...</td>\n",
       "    </tr>\n",
       "  </tbody>\n",
       "</table>\n",
       "<p>2 rows × 32 columns</p>\n",
       "</div>"
      ],
      "text/plain": [
       "      expDate expNum                            expDef expDuration  \\\n",
       "0  2024-03-14      1  multiSpaceWorld_checker_training        3576   \n",
       "1  2024-03-20      1  multiSpaceWorld_checker_training        2853   \n",
       "\n",
       "       rigName existBlock existTimeline existFrontCam existSideCam  \\\n",
       "0  zelda-stim1          1             1             1            1   \n",
       "1  zelda-stim1          1             1             1            1   \n",
       "\n",
       "  existEyeCam  ... fMapEyeCam fMapTopCam issortedPyKS extractSpikes  \\\n",
       "0           1  ...          1        NaN          1,0           1,0   \n",
       "1           1  ...          0        NaN          1,0           1,0   \n",
       "\n",
       "  extractEvents                                          expFolder  \\\n",
       "0             1  \\\\zortex.cortexlab.net\\Subjects\\AV043\\2024-03-...   \n",
       "1             1  \\\\zortex.cortexlab.net\\Subjects\\AV043\\2024-03-...   \n",
       "\n",
       "                                     ephysPathProbe0 ephysPathProbe1 subject  \\\n",
       "0  \\\\zortex.cortexlab.net\\Subjects\\AV043\\2024-03-...             NaN   AV043   \n",
       "1  \\\\zortex.cortexlab.net\\Subjects\\AV043\\2024-03-...             NaN   AV043   \n",
       "\n",
       "                                              events  \n",
       "0  {'_av_trials': {'is_blankTrial': [False, False...  \n",
       "1  {'_av_trials': {'is_blankTrial': [False, False...  \n",
       "\n",
       "[2 rows x 32 columns]"
      ]
     },
     "execution_count": 7,
     "metadata": {},
     "output_type": "execute_result"
    }
   ],
   "source": [
    "recordings_events"
   ]
  },
  {
   "cell_type": "markdown",
   "metadata": {},
   "source": [
    "## Spikes Data"
   ]
  },
  {
   "cell_type": "code",
   "execution_count": 8,
   "metadata": {},
   "outputs": [],
   "source": [
    "ephys_dict = {'spikes':'all','clusters':'all'}\n",
    "# both probes \n",
    "data_name_dict = {'probe0':ephys_dict,'probe1':ephys_dict} \n",
    "recordings_spikes = load_data(data_name_dict=data_name_dict,**exp_kwargs)"
   ]
  },
  {
   "cell_type": "code",
   "execution_count": 9,
   "metadata": {},
   "outputs": [
    {
     "data": {
      "text/html": [
       "<div>\n",
       "<style scoped>\n",
       "    .dataframe tbody tr th:only-of-type {\n",
       "        vertical-align: middle;\n",
       "    }\n",
       "\n",
       "    .dataframe tbody tr th {\n",
       "        vertical-align: top;\n",
       "    }\n",
       "\n",
       "    .dataframe thead th {\n",
       "        text-align: right;\n",
       "    }\n",
       "</style>\n",
       "<table border=\"1\" class=\"dataframe\">\n",
       "  <thead>\n",
       "    <tr style=\"text-align: right;\">\n",
       "      <th></th>\n",
       "      <th>expDate</th>\n",
       "      <th>expNum</th>\n",
       "      <th>expDef</th>\n",
       "      <th>expDuration</th>\n",
       "      <th>rigName</th>\n",
       "      <th>existBlock</th>\n",
       "      <th>existTimeline</th>\n",
       "      <th>existFrontCam</th>\n",
       "      <th>existSideCam</th>\n",
       "      <th>existEyeCam</th>\n",
       "      <th>...</th>\n",
       "      <th>fMapTopCam</th>\n",
       "      <th>issortedPyKS</th>\n",
       "      <th>extractSpikes</th>\n",
       "      <th>extractEvents</th>\n",
       "      <th>expFolder</th>\n",
       "      <th>ephysPathProbe0</th>\n",
       "      <th>ephysPathProbe1</th>\n",
       "      <th>subject</th>\n",
       "      <th>probe0</th>\n",
       "      <th>probe1</th>\n",
       "    </tr>\n",
       "  </thead>\n",
       "  <tbody>\n",
       "    <tr>\n",
       "      <th>0</th>\n",
       "      <td>2024-03-14</td>\n",
       "      <td>1</td>\n",
       "      <td>multiSpaceWorld_checker_training</td>\n",
       "      <td>3576</td>\n",
       "      <td>zelda-stim1</td>\n",
       "      <td>1</td>\n",
       "      <td>1</td>\n",
       "      <td>1</td>\n",
       "      <td>1</td>\n",
       "      <td>1</td>\n",
       "      <td>...</td>\n",
       "      <td>NaN</td>\n",
       "      <td>1,0</td>\n",
       "      <td>1,0</td>\n",
       "      <td>1</td>\n",
       "      <td>\\\\zortex.cortexlab.net\\Subjects\\AV043\\2024-03-...</td>\n",
       "      <td>\\\\zortex.cortexlab.net\\Subjects\\AV043\\2024-03-...</td>\n",
       "      <td>NaN</td>\n",
       "      <td>AV043</td>\n",
       "      <td>{'spikes': {'clusters': [665, 108, 121, 331, 4...</td>\n",
       "      <td>{'spikes': {}, 'clusters': {}}</td>\n",
       "    </tr>\n",
       "    <tr>\n",
       "      <th>1</th>\n",
       "      <td>2024-03-20</td>\n",
       "      <td>1</td>\n",
       "      <td>multiSpaceWorld_checker_training</td>\n",
       "      <td>2853</td>\n",
       "      <td>zelda-stim1</td>\n",
       "      <td>1</td>\n",
       "      <td>1</td>\n",
       "      <td>1</td>\n",
       "      <td>1</td>\n",
       "      <td>1</td>\n",
       "      <td>...</td>\n",
       "      <td>NaN</td>\n",
       "      <td>1,0</td>\n",
       "      <td>1,0</td>\n",
       "      <td>1</td>\n",
       "      <td>\\\\zortex.cortexlab.net\\Subjects\\AV043\\2024-03-...</td>\n",
       "      <td>\\\\zortex.cortexlab.net\\Subjects\\AV043\\2024-03-...</td>\n",
       "      <td>NaN</td>\n",
       "      <td>AV043</td>\n",
       "      <td>{'spikes': {'times': [0.0011999999999972033, 0...</td>\n",
       "      <td>{'spikes': {}, 'clusters': {}}</td>\n",
       "    </tr>\n",
       "  </tbody>\n",
       "</table>\n",
       "<p>2 rows × 33 columns</p>\n",
       "</div>"
      ],
      "text/plain": [
       "      expDate expNum                            expDef expDuration  \\\n",
       "0  2024-03-14      1  multiSpaceWorld_checker_training        3576   \n",
       "1  2024-03-20      1  multiSpaceWorld_checker_training        2853   \n",
       "\n",
       "       rigName existBlock existTimeline existFrontCam existSideCam  \\\n",
       "0  zelda-stim1          1             1             1            1   \n",
       "1  zelda-stim1          1             1             1            1   \n",
       "\n",
       "  existEyeCam  ... fMapTopCam issortedPyKS extractSpikes extractEvents  \\\n",
       "0           1  ...        NaN          1,0           1,0             1   \n",
       "1           1  ...        NaN          1,0           1,0             1   \n",
       "\n",
       "                                           expFolder  \\\n",
       "0  \\\\zortex.cortexlab.net\\Subjects\\AV043\\2024-03-...   \n",
       "1  \\\\zortex.cortexlab.net\\Subjects\\AV043\\2024-03-...   \n",
       "\n",
       "                                     ephysPathProbe0 ephysPathProbe1 subject  \\\n",
       "0  \\\\zortex.cortexlab.net\\Subjects\\AV043\\2024-03-...             NaN   AV043   \n",
       "1  \\\\zortex.cortexlab.net\\Subjects\\AV043\\2024-03-...             NaN   AV043   \n",
       "\n",
       "                                              probe0  \\\n",
       "0  {'spikes': {'clusters': [665, 108, 121, 331, 4...   \n",
       "1  {'spikes': {'times': [0.0011999999999972033, 0...   \n",
       "\n",
       "                           probe1  \n",
       "0  {'spikes': {}, 'clusters': {}}  \n",
       "1  {'spikes': {}, 'clusters': {}}  \n",
       "\n",
       "[2 rows x 33 columns]"
      ]
     },
     "execution_count": 9,
     "metadata": {},
     "output_type": "execute_result"
    }
   ],
   "source": [
    "recordings_spikes"
   ]
  },
  {
   "cell_type": "markdown",
   "metadata": {},
   "source": [
    "## Camera Data"
   ]
  },
  {
   "cell_type": "code",
   "execution_count": 10,
   "metadata": {},
   "outputs": [],
   "source": [
    "cameras = ['frontCam','sideCam','eyeCam']\n",
    "data_name_dict = {cam:{'camera':['times','ROIMotionEnergy']} for cam in cameras}\n",
    "recordings_camera = load_data(data_name_dict=data_name_dict,**exp_kwargs)"
   ]
  },
  {
   "cell_type": "markdown",
   "metadata": {},
   "source": [
    "## All Data"
   ]
  },
  {
   "cell_type": "code",
   "execution_count": 14,
   "metadata": {},
   "outputs": [],
   "source": [
    "recordings = load_data(\n",
    "    subject = 'AV043',\n",
    "    expDate  = '2024-03-14',\n",
    "    expDef   = 'multiSpaceWorld_checker_training',\n",
    "    data_name_dict='all-default')"
   ]
  },
  {
   "cell_type": "code",
   "execution_count": 15,
   "metadata": {},
   "outputs": [
    {
     "data": {
      "text/html": [
       "<div>\n",
       "<style scoped>\n",
       "    .dataframe tbody tr th:only-of-type {\n",
       "        vertical-align: middle;\n",
       "    }\n",
       "\n",
       "    .dataframe tbody tr th {\n",
       "        vertical-align: top;\n",
       "    }\n",
       "\n",
       "    .dataframe thead th {\n",
       "        text-align: right;\n",
       "    }\n",
       "</style>\n",
       "<table border=\"1\" class=\"dataframe\">\n",
       "  <thead>\n",
       "    <tr style=\"text-align: right;\">\n",
       "      <th></th>\n",
       "      <th>expDate</th>\n",
       "      <th>expNum</th>\n",
       "      <th>expDef</th>\n",
       "      <th>expDuration</th>\n",
       "      <th>rigName</th>\n",
       "      <th>existBlock</th>\n",
       "      <th>existTimeline</th>\n",
       "      <th>existFrontCam</th>\n",
       "      <th>existSideCam</th>\n",
       "      <th>existEyeCam</th>\n",
       "      <th>...</th>\n",
       "      <th>expFolder</th>\n",
       "      <th>ephysPathProbe0</th>\n",
       "      <th>ephysPathProbe1</th>\n",
       "      <th>subject</th>\n",
       "      <th>events</th>\n",
       "      <th>probe0</th>\n",
       "      <th>probe1</th>\n",
       "      <th>frontCam</th>\n",
       "      <th>sideCam</th>\n",
       "      <th>eyeCam</th>\n",
       "    </tr>\n",
       "  </thead>\n",
       "  <tbody>\n",
       "    <tr>\n",
       "      <th>0</th>\n",
       "      <td>2024-03-14</td>\n",
       "      <td>1</td>\n",
       "      <td>multiSpaceWorld_checker_training</td>\n",
       "      <td>3576</td>\n",
       "      <td>zelda-stim1</td>\n",
       "      <td>1</td>\n",
       "      <td>1</td>\n",
       "      <td>1</td>\n",
       "      <td>1</td>\n",
       "      <td>1</td>\n",
       "      <td>...</td>\n",
       "      <td>\\\\zortex.cortexlab.net\\Subjects\\AV043\\2024-03-...</td>\n",
       "      <td>\\\\zortex.cortexlab.net\\Subjects\\AV043\\2024-03-...</td>\n",
       "      <td>NaN</td>\n",
       "      <td>AV043</td>\n",
       "      <td>{'_av_trials': {'is_blankTrial': [False, False...</td>\n",
       "      <td>{'spikes': {'clusters': [665, 108, 121, 331, 4...</td>\n",
       "      <td>{'spikes': {}, 'clusters': {}}</td>\n",
       "      <td>{'camera': {'times': [-13.885303461488334, -13...</td>\n",
       "      <td>{'camera': {'times': [-13.9500134846031, -13.9...</td>\n",
       "      <td>{'camera': {'times': [-13.886768436996093, -13...</td>\n",
       "    </tr>\n",
       "  </tbody>\n",
       "</table>\n",
       "<p>1 rows × 37 columns</p>\n",
       "</div>"
      ],
      "text/plain": [
       "      expDate expNum                            expDef expDuration  \\\n",
       "0  2024-03-14      1  multiSpaceWorld_checker_training        3576   \n",
       "\n",
       "       rigName existBlock existTimeline existFrontCam existSideCam  \\\n",
       "0  zelda-stim1          1             1             1            1   \n",
       "\n",
       "  existEyeCam  ...                                          expFolder  \\\n",
       "0           1  ...  \\\\zortex.cortexlab.net\\Subjects\\AV043\\2024-03-...   \n",
       "\n",
       "                                     ephysPathProbe0 ephysPathProbe1 subject  \\\n",
       "0  \\\\zortex.cortexlab.net\\Subjects\\AV043\\2024-03-...             NaN   AV043   \n",
       "\n",
       "                                              events  \\\n",
       "0  {'_av_trials': {'is_blankTrial': [False, False...   \n",
       "\n",
       "                                              probe0  \\\n",
       "0  {'spikes': {'clusters': [665, 108, 121, 331, 4...   \n",
       "\n",
       "                           probe1  \\\n",
       "0  {'spikes': {}, 'clusters': {}}   \n",
       "\n",
       "                                            frontCam  \\\n",
       "0  {'camera': {'times': [-13.885303461488334, -13...   \n",
       "\n",
       "                                             sideCam  \\\n",
       "0  {'camera': {'times': [-13.9500134846031, -13.9...   \n",
       "\n",
       "                                              eyeCam  \n",
       "0  {'camera': {'times': [-13.886768436996093, -13...  \n",
       "\n",
       "[1 rows x 37 columns]"
      ]
     },
     "execution_count": 15,
     "metadata": {},
     "output_type": "execute_result"
    }
   ],
   "source": [
    "recordings"
   ]
  },
  {
   "cell_type": "markdown",
   "metadata": {},
   "source": [
    "## Utility Functions"
   ]
  },
  {
   "cell_type": "code",
   "execution_count": 16,
   "metadata": {},
   "outputs": [],
   "source": [
    "from pinkrigs_tools.utils import ev_utils\n",
    "from pinkrigs_tools.utils import spk_utils\n"
   ]
  },
  {
   "cell_type": "code",
   "execution_count": 20,
   "metadata": {},
   "outputs": [
    {
     "name": "stderr",
     "output_type": "stream",
     "text": [
      "/Users/Serkan/opt/anaconda3/envs/pink_rigs/lib/python3.10/site-packages/floras_helpers/hist/regions.py:430: RuntimeWarning: invalid value encountered in cast\n",
      "  level=df_regions.depth.to_numpy().astype(np.uint16),\n",
      "/Users/Serkan/opt/anaconda3/envs/pink_rigs/lib/python3.10/site-packages/floras_helpers/hist/regions.py:432: RuntimeWarning: invalid value encountered in cast\n",
      "  order=df_regions.graph_order.to_numpy().astype(np.uint16))\n",
      "/Users/Serkan/Desktop/academia/PhD/rotations/cortex_lab/project/pinkrigs_tools/utils/spk_utils.py:172: SettingWithCopyWarning: \n",
      "A value is trying to be set on a copy of a slice from a DataFrame\n",
      "\n",
      "See the caveats in the documentation: https://pandas.pydata.org/pandas-docs/stable/user_guide/indexing.html#returning-a-view-versus-a-copy\n",
      "  clusInfo.brainLocationAcronyms_ccf_2017[\n"
     ]
    }
   ],
   "source": [
    "active_session  = recordings[recordings.expDef=='multiSpaceWorld_checker_training'].iloc[0]\n",
    "\n",
    "\n",
    "ev = active_session.events._av_trials\n",
    "spikes = active_session.probe0.spikes\n",
    "clusters = active_session.probe0.clusters\n",
    "\n",
    "\n",
    "formatted_events = ev_utils.format_events(ev)\n",
    "formatted_cluster_data = spk_utils.format_cluster_data(clusters)"
   ]
  },
  {
   "cell_type": "code",
   "execution_count": 19,
   "metadata": {},
   "outputs": [
    {
     "data": {
      "text/plain": [
       "Index(['is_blankTrial', 'is_visualTrial', 'is_auditoryTrial',\n",
       "       'is_coherentTrial', 'is_conflictTrial', 'is_validTrial',\n",
       "       'is_noStimTrial', 'block_trialOn', 'block_trialOff', 'block_stimOn',\n",
       "       'block_laserStartTimes', 'block_firstMovePostLaserOn',\n",
       "       'block_firstMovePostLaserDir', 'block_isMovedAtLaser',\n",
       "       'timeline_rewardOn', 'timeline_audPeriodOn', 'timeline_audPeriodOff',\n",
       "       'timeline_visPeriodOn', 'timeline_visPeriodOff', 'timeline_firstMoveOn',\n",
       "       'timeline_firstMoveDir', 'timeline_choiceMoveOn',\n",
       "       'timeline_choiceMoveDir', 'timeline_choiceThreshOn',\n",
       "       'timeline_isMovedAtStim', 'is_laserTrial', 'timeline_laserOn_rampStart',\n",
       "       'timeline_laserOn_rampEnd', 'timeline_laserOff_rampStart',\n",
       "       'timeline_laserOff_rampEnd', 'stim_laserPosition', 'stim_laser1_power',\n",
       "       'stim_laser2_power', 'timeline_firstMovePostLaserOn',\n",
       "       'timeline_firstMovePostLaserDir', 'timeline_isMovedAtLaser',\n",
       "       'timeline_choiceThreshPostLaserOn', 'timeline_choiceMovePostLaserDir',\n",
       "       'stim_correctResponse', 'stim_repeatNum', 'stim_audAmplitude',\n",
       "       'stim_audAzimuth', 'stim_visContrast', 'stim_visAzimuth',\n",
       "       'stim_closedLoop', 'response_direction', 'response_feedback', 'visDiff',\n",
       "       'audDiff', 'rt', 'rt_aud', 'first_move_time', 'laser_power',\n",
       "       'laser_power_signed', 'visR', 'visL', 'audR', 'audL', 'choice',\n",
       "       'feedback'],\n",
       "      dtype='object')"
      ]
     },
     "execution_count": 19,
     "metadata": {},
     "output_type": "execute_result"
    }
   ],
   "source": [
    "formatted_events.columns"
   ]
  },
  {
   "cell_type": "code",
   "execution_count": 23,
   "metadata": {},
   "outputs": [
    {
     "data": {
      "text/plain": [
       "Index(['_av_IDs', '_av_KSLabels', 'depths', 'peakToTrough', 'maxChannels',\n",
       "       'phy_clusterID', 'clusterID', 'useTheseTimesStart', 'useTheseTimesStop',\n",
       "       'RPV_tauR_estimate', 'percentageSpikesMissing_gaussian',\n",
       "       'percentageSpikesMissing_symmetric', 'ksTest_pValue', 'presenceRatio',\n",
       "       'maxDriftEstimate', 'cumDriftEstimate', 'nSpikes', 'nPeaks', 'nTroughs',\n",
       "       'isSomatic', 'waveformDuration_peakTrough', 'spatialDecaySlope',\n",
       "       'waveformBaselineFlatness', 'rawAmplitude', 'signalToNoiseRatio',\n",
       "       'fractionRPVs_estimatedTauR', 'channels', '_av_shankID', 'amps',\n",
       "       '_av_xpos', 'cluster_id', 'amp_max', 'amp_min', 'amp_median',\n",
       "       'amp_std_dB', 'contamination', 'contamination_alt', 'drift',\n",
       "       'missed_spikes_est', 'noise_cutoff', 'presence_ratio',\n",
       "       'presence_ratio_std', 'slidingRP_viol', 'spike_count', 'firing_rate',\n",
       "       'label', 'ks2_contamination_pct', 'ks2_label', 'ml', 'ap', 'dv', 'hemi',\n",
       "       'brainLocationAcronyms_ccf_2017', 'brainLocationIds_ccf_2017',\n",
       "       'bombcell_class', 'is_good', 'BerylAcronym'],\n",
       "      dtype='object')"
      ]
     },
     "execution_count": 23,
     "metadata": {},
     "output_type": "execute_result"
    }
   ],
   "source": [
    "formatted_cluster_data.columns"
   ]
  },
  {
   "cell_type": "code",
   "execution_count": 28,
   "metadata": {},
   "outputs": [
    {
     "data": {
      "text/plain": [
       "dict_keys(['clusters', 'depths', '_av_shankIDs', 'templates', '_av_xpos', 'amps', 'times'])"
      ]
     },
     "execution_count": 28,
     "metadata": {},
     "output_type": "execute_result"
    }
   ],
   "source": [
    "spikes.keys()"
   ]
  },
  {
   "cell_type": "code",
   "execution_count": 30,
   "metadata": {},
   "outputs": [],
   "source": [
    "# session_number = 0\n",
    "# trial_type = 'visual'\n",
    "# events_session = version.events[session_number]['_av_trials']\n",
    "# if trial_type == 'visual':\n",
    "#     trial_mask = events_session['is_visualTrial']\n",
    "# elif trial_type == 'auditory':\n",
    "#     trial_mask = events_session['is_auditoryTrial']\n",
    "# elif trial_type == 'coherent':\n",
    "#     trial_mask = events_session['is_coherentTrial']\n",
    "# elif trial_type == 'conflict':\n",
    "#     trial_mask = events_session['is_conflictTrial']\n",
    "# else:\n",
    "#     raise ValueError('trial_type must be one of visual, auditory, coherent, conflict')\n",
    "# trial_mask = np.logical_and(trial_mask, events_session['is_validTrial'])"
   ]
  },
  {
   "cell_type": "code",
   "execution_count": null,
   "metadata": {},
   "outputs": [],
   "source": []
  }
 ],
 "metadata": {
  "kernelspec": {
   "display_name": "Python 3",
   "language": "python",
   "name": "python3"
  },
  "language_info": {
   "codemirror_mode": {
    "name": "ipython",
    "version": 3
   },
   "file_extension": ".py",
   "mimetype": "text/x-python",
   "name": "python",
   "nbconvert_exporter": "python",
   "pygments_lexer": "ipython3",
   "version": "3.10.16"
  }
 },
 "nbformat": 4,
 "nbformat_minor": 2
}
